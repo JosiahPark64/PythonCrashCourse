{
 "cells": [
  {
   "cell_type": "code",
   "execution_count": null,
   "id": "d81f9994",
   "metadata": {},
   "outputs": [],
   "source": [
    "#range function is not inclusive of second number\n",
    "for value in range(1,5):\n",
    "    print(value)\n",
    "\n",
    "for value in range(6):\n",
    "    print(value)\n",
    "\n",
    "numbers = list(range(1,6))\n",
    "print(numbers)\n",
    "\n",
    "even_numbers = list(range(2,11,2))\n",
    "print(even_numbers)"
   ]
  },
  {
   "cell_type": "code",
   "execution_count": null,
   "id": "843cf23d",
   "metadata": {},
   "outputs": [],
   "source": [
    "squares = []\n",
    "for value in range(1,11):\n",
    "    squares.append(value**2)\n",
    "\n",
    "print(squares)\n",
    "\n",
    "print(min(squares))\n",
    "print(max(squares))\n",
    "print(sum(squares))"
   ]
  },
  {
   "cell_type": "code",
   "execution_count": null,
   "id": "1e8e23dd",
   "metadata": {},
   "outputs": [],
   "source": [
    "#list comprehension\n",
    "cubes = [value**3 for value in range(1,11)]\n",
    "print(cubes)"
   ]
  },
  {
   "cell_type": "code",
   "execution_count": null,
   "id": "f98f1740",
   "metadata": {},
   "outputs": [],
   "source": [
    "for value in range(1,21):\n",
    "    print(value)"
   ]
  },
  {
   "cell_type": "code",
   "execution_count": null,
   "id": "7cfdab04",
   "metadata": {},
   "outputs": [],
   "source": [
    "million = range(1,1_000_001)\n",
    "#for value in million:\n",
    " #   print(value)\n",
    "print(min(million))\n",
    "print(max(million))\n",
    "print(sum(million))"
   ]
  },
  {
   "cell_type": "code",
   "execution_count": null,
   "id": "c5afc97b",
   "metadata": {},
   "outputs": [],
   "source": [
    "odds = list(range(1,21,2))\n",
    "evens = list(range(2,21,2))\n",
    "print(odds)\n",
    "print(evens)\n",
    "\n",
    "for odd in odds:\n",
    "    print(odd)"
   ]
  },
  {
   "cell_type": "code",
   "execution_count": 26,
   "id": "c3f62429",
   "metadata": {},
   "outputs": [
    {
     "name": "stdout",
     "output_type": "stream",
     "text": [
      "1\n",
      "8\n",
      "27\n",
      "64\n",
      "125\n",
      "216\n",
      "343\n",
      "512\n",
      "729\n",
      "1000\n",
      "[None, None, None, None, None, None, None, None, None, None]\n",
      "[1, 16, 81, 256, 625, 1296, 2401, 4096, 6561, 10000]\n"
     ]
    }
   ],
   "source": [
    "cubed = [print(value**3) for value in range(1,11)]\n",
    "print(cubed)\n",
    "\n",
    "quad = [value**4 for value in range(1,11)]\n",
    "print(quad)"
   ]
  },
  {
   "cell_type": "code",
   "execution_count": null,
   "id": "255ea367",
   "metadata": {},
   "outputs": [],
   "source": []
  }
 ],
 "metadata": {
  "kernelspec": {
   "display_name": "Python 3",
   "language": "python",
   "name": "python3"
  },
  "language_info": {
   "codemirror_mode": {
    "name": "ipython",
    "version": 3
   },
   "file_extension": ".py",
   "mimetype": "text/x-python",
   "name": "python",
   "nbconvert_exporter": "python",
   "pygments_lexer": "ipython3",
   "version": "3.13.7"
  }
 },
 "nbformat": 4,
 "nbformat_minor": 5
}
