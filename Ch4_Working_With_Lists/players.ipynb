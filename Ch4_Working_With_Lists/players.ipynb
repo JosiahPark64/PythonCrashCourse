{
 "cells": [
  {
   "cell_type": "code",
   "execution_count": 6,
   "id": "307437e1",
   "metadata": {},
   "outputs": [
    {
     "name": "stdout",
     "output_type": "stream",
     "text": [
      "['charles', 'martina', 'michael']\n",
      "['martina', 'michael', 'florence']\n",
      "['charles', 'martina', 'michael', 'florence']\n",
      "['michael', 'florence', 'eli']\n",
      "['michael', 'florence', 'eli']\n",
      "Charles\n",
      "Martina\n",
      "Michael\n"
     ]
    }
   ],
   "source": [
    "players = ['charles', 'martina', 'michael','florence','eli']\n",
    "print(players[0:3])\n",
    "print(players[1:4])\n",
    "print(players[:4])\n",
    "print(players[2:])\n",
    "print(players[-3:])\n",
    "\n",
    "for player in players[:3]:\n",
    "    print(player.title())\n"
   ]
  },
  {
   "cell_type": "code",
   "execution_count": null,
   "id": "8b27092b",
   "metadata": {},
   "outputs": [],
   "source": []
  }
 ],
 "metadata": {
  "kernelspec": {
   "display_name": "Python 3",
   "language": "python",
   "name": "python3"
  },
  "language_info": {
   "codemirror_mode": {
    "name": "ipython",
    "version": 3
   },
   "file_extension": ".py",
   "mimetype": "text/x-python",
   "name": "python",
   "nbconvert_exporter": "python",
   "pygments_lexer": "ipython3",
   "version": "3.13.7"
  }
 },
 "nbformat": 4,
 "nbformat_minor": 5
}
