{
 "cells": [
  {
   "cell_type": "code",
   "execution_count": 5,
   "id": "db6e55df",
   "metadata": {},
   "outputs": [
    {
     "name": "stdout",
     "output_type": "stream",
     "text": [
      "my favorite foods are: ['pizza', 'falafel', 'carrot cake', 'candy']\n",
      "my friends favorite foods are: ['pizza', 'falafel', 'carrot cake', 'kfc']\n"
     ]
    }
   ],
   "source": [
    "my_foods = ['pizza','falafel','carrot cake']\n",
    "friend_foods = my_foods[:]\n",
    "\n",
    "my_foods.append('candy')\n",
    "friend_foods.append('kfc')\n",
    "print(f\"my favorite foods are: {my_foods}\")\n",
    "print(f\"my friends favorite foods are: {friend_foods}\")"
   ]
  },
  {
   "cell_type": "code",
   "execution_count": 13,
   "id": "72a0a688",
   "metadata": {},
   "outputs": [
    {
     "name": "stdout",
     "output_type": "stream",
     "text": [
      "the first 3 items in my foods list are: ['pizza', 'falafel', 'carrot cake']\n",
      "the middle 3 items in my foods list are: ['falafel', 'carrot cake', 'candy']\n",
      "the last 3 items in my foods list are: ['falafel', 'carrot cake', 'candy']\n"
     ]
    }
   ],
   "source": [
    "print(f\"the first 3 items in my foods list are: {my_foods[0:3]}\")\n",
    "length = len(my_foods)\n",
    "middle_index = length//2\n",
    "mid_upper = middle_index+2\n",
    "mid_lower = middle_index-1\n",
    "print(f\"the middle 3 items in my foods list are: {my_foods[mid_lower:mid_upper]}\")\n",
    "print(f\"the last 3 items in my foods list are: {my_foods[-3:]}\")"
   ]
  },
  {
   "cell_type": "code",
   "execution_count": 16,
   "id": "73fd0184",
   "metadata": {},
   "outputs": [
    {
     "name": "stdout",
     "output_type": "stream",
     "text": [
      "['plain', 'pepperoni', 'everything', 'sausage', 'mushroom']\n",
      "['meat lovers', 'plain', 'pepperoni', 'sausage', 'mushroom']\n",
      "plain\n",
      "pepperoni\n",
      "everything\n",
      "sausage\n",
      "mushroom\n"
     ]
    }
   ],
   "source": [
    "pizzas = ['plain','pepperoni','sausage','mushroom']\n",
    "friends_pizzas = pizzas[:]\n",
    "\n",
    "pizzas.insert(2,'everything')\n",
    "friends_pizzas.insert(0,'meat lovers')\n",
    "\n",
    "print(pizzas)\n",
    "print(friends_pizzas)\n",
    "\n",
    "for pizza in pizzas:\n",
    "    print(pizza)"
   ]
  },
  {
   "cell_type": "code",
   "execution_count": 18,
   "id": "10d7a919",
   "metadata": {},
   "outputs": [
    {
     "data": {
      "text/plain": [
       "True"
      ]
     },
     "execution_count": 18,
     "metadata": {},
     "output_type": "execute_result"
    }
   ],
   "source": [
    "'mushroom' in pizzas\n",
    "'orange' not in pizzas"
   ]
  },
  {
   "cell_type": "code",
   "execution_count": null,
   "id": "ec3b3419",
   "metadata": {},
   "outputs": [],
   "source": []
  }
 ],
 "metadata": {
  "kernelspec": {
   "display_name": "Python 3",
   "language": "python",
   "name": "python3"
  },
  "language_info": {
   "codemirror_mode": {
    "name": "ipython",
    "version": 3
   },
   "file_extension": ".py",
   "mimetype": "text/x-python",
   "name": "python",
   "nbconvert_exporter": "python",
   "pygments_lexer": "ipython3",
   "version": "3.13.7"
  }
 },
 "nbformat": 4,
 "nbformat_minor": 5
}
