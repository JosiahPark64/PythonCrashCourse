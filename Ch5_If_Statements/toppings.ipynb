{
 "cells": [
  {
   "cell_type": "code",
   "execution_count": 4,
   "id": "0bd4defc",
   "metadata": {},
   "outputs": [
    {
     "name": "stdout",
     "output_type": "stream",
     "text": [
      "adding mushrooms\n",
      "we dont have french fries\n",
      "adding extra cheese\n",
      "fnished making your pizza\n"
     ]
    }
   ],
   "source": [
    "available_toppings = ['mushrooms', 'olives', 'green peppers', 'pepperoni',\n",
    "                      'pineapple', 'extra cheese']\n",
    "requested_toppings = ['mushrooms','french fries','extra cheese']\n",
    "\n",
    "if requested_toppings:\n",
    "    for requested_topping in requested_toppings:\n",
    "        if requested_topping in available_toppings:\n",
    "            print(f\"adding {requested_topping}\")\n",
    "        else:\n",
    "            print(f'we dont have {requested_topping}')\n",
    "    print(\"fnished making your pizza\")\n",
    "else:\n",
    "    print('are you sure you want a plain pizza')\n",
    "\n",
    "#blank if statement for a list returns false if the list is empty"
   ]
  },
  {
   "cell_type": "code",
   "execution_count": null,
   "id": "e060c997",
   "metadata": {},
   "outputs": [],
   "source": []
  }
 ],
 "metadata": {
  "kernelspec": {
   "display_name": "Python 3",
   "language": "python",
   "name": "python3"
  },
  "language_info": {
   "codemirror_mode": {
    "name": "ipython",
    "version": 3
   },
   "file_extension": ".py",
   "mimetype": "text/x-python",
   "name": "python",
   "nbconvert_exporter": "python",
   "pygments_lexer": "ipython3",
   "version": "3.13.7"
  }
 },
 "nbformat": 4,
 "nbformat_minor": 5
}
