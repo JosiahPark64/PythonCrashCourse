{
 "cells": [
  {
   "cell_type": "code",
   "execution_count": null,
   "id": "120b8fb0",
   "metadata": {},
   "outputs": [
    {
     "ename": "AttributeError",
     "evalue": "module 'make_user_profile' has no attribute 'build_profile'",
     "output_type": "error",
     "traceback": [
      "\u001b[31m---------------------------------------------------------------------------\u001b[39m",
      "\u001b[31mAttributeError\u001b[39m                            Traceback (most recent call last)",
      "\u001b[36mCell\u001b[39m\u001b[36m \u001b[39m\u001b[32mIn[7]\u001b[39m\u001b[32m, line 3\u001b[39m\n\u001b[32m      1\u001b[39m \u001b[38;5;28;01mimport\u001b[39;00m\u001b[38;5;250m \u001b[39m\u001b[34;01mmake_user_profile\u001b[39;00m\u001b[38;5;250m \u001b[39m\u001b[38;5;28;01mas\u001b[39;00m\u001b[38;5;250m \u001b[39m\u001b[34;01mmup\u001b[39;00m\n\u001b[32m----> \u001b[39m\u001b[32m3\u001b[39m user_profile = \u001b[43mmup\u001b[49m\u001b[43m.\u001b[49m\u001b[43mbuild_profile\u001b[49m(\u001b[33m'\u001b[39m\u001b[33malbert\u001b[39m\u001b[33m'\u001b[39m,\u001b[33m'\u001b[39m\u001b[33meinstein\u001b[39m\u001b[33m'\u001b[39m,location = \u001b[33m'\u001b[39m\u001b[33mprinceton\u001b[39m\u001b[33m'\u001b[39m, field = \u001b[33m'\u001b[39m\u001b[33mphysics\u001b[39m\u001b[33m'\u001b[39m) \n\u001b[32m      4\u001b[39m \u001b[38;5;28mprint\u001b[39m(user_profile)\n",
      "\u001b[31mAttributeError\u001b[39m: module 'make_user_profile' has no attribute 'build_profile'"
     ]
    }
   ],
   "source": [
    "from make_user_profile import build_profile\n",
    "\n",
    "user_profile = mup.build_profile('albert','einstein',location = 'princeton', field = 'physics') \n",
    "print(user_profile)"
   ]
  },
  {
   "cell_type": "code",
   "execution_count": null,
   "id": "29d234ac",
   "metadata": {},
   "outputs": [],
   "source": []
  }
 ],
 "metadata": {
  "kernelspec": {
   "display_name": "Python 3",
   "language": "python",
   "name": "python3"
  },
  "language_info": {
   "codemirror_mode": {
    "name": "ipython",
    "version": 3
   },
   "file_extension": ".py",
   "mimetype": "text/x-python",
   "name": "python",
   "nbconvert_exporter": "python",
   "pygments_lexer": "ipython3",
   "version": "3.13.7"
  }
 },
 "nbformat": 4,
 "nbformat_minor": 5
}
