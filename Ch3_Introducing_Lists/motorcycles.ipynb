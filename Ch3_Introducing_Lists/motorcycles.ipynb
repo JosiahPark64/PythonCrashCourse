{
 "cells": [
  {
   "cell_type": "code",
   "execution_count": null,
   "id": "463caa71",
   "metadata": {},
   "outputs": [
    {
     "name": "stdout",
     "output_type": "stream",
     "text": [
      "['honda', 'yamaha', 'suzuki']\n",
      "['honda', 'yamaha', 'suzuki', 'ducati']\n",
      "['piano', 'honda', 'yamaha', 'suzuki', 'ducati']\n",
      "['honda', 'yamaha', 'suzuki', 'ducati']\n",
      "honda\n",
      "['yamaha', 'suzuki', 'ducati']\n",
      "['yamaha', 'suzuki']\n"
     ]
    }
   ],
   "source": [
    "motorcycles = ['honda','yamaha','suzuki']\n",
    "print(motorcycles)\n",
    "\n",
    "motorcycles.append('ducati')\n",
    "print(motorcycles)\n",
    "\n",
    "motorcycles.insert(0,'piano')\n",
    "print(motorcycles)\n",
    "\n",
    "del motorcycles[0]\n",
    "print(motorcycles)\n",
    "\n",
    "popped_motorcycles = motorcycles.pop(0)\n",
    "print(popped_motorcycles)\n",
    "print(motorcycles)\n",
    "\n",
    "motorcycles.remove('ducati')\n",
    "print(motorcycles)\n",
    "#remove only removes the first instance of the value. \n",
    "# you have to iterate through to ensure all instances were removed"
   ]
  },
  {
   "cell_type": "code",
   "execution_count": 40,
   "id": "42f669ad",
   "metadata": {},
   "outputs": [
    {
     "name": "stdout",
     "output_type": "stream",
     "text": [
      "['Rebekah\\n', '\\tbethany', '\\nhannah', '\\tsophia\\t']\n",
      "you are invited Rebekah\n",
      "you are invited Bethany\n",
      "you are invited Hannah\n",
      "you are invited Sophia\n",
      "hannah can't make it\n",
      "you are invited Rebekah\n",
      "you are invited Bethany\n",
      "you are invited Brent\n",
      "you are invited Sophia\n",
      "\n",
      "We found a bigger table\n",
      "you are invited Tom\n",
      "you are invited Rebekah\n",
      "you are invited Bethany\n",
      "you are invited Ben\n",
      "you are invited Brent\n",
      "you are invited Sophia\n",
      "you are invited Don\n",
      "\n",
      "I can only invite 2 people\n",
      "you have been univited, Don\n",
      "you have been univited, Sophia\n",
      "you have been univited, Brent\n",
      "you have been univited, Ben\n",
      "you have been univited, Bethany\n",
      "['tom', 'Rebekah\\n']\n",
      "you are invited Tom\n",
      "you are invited Rebekah\n",
      "[]\n"
     ]
    }
   ],
   "source": [
    "#Guest List\n",
    "guest_list = ['Rebekah\\n','\\tbethany','\\nhannah','\\tsophia\\t']\n",
    "#guest_list_title = guest_list.title()\n",
    "print(guest_list)\n",
    "\n",
    "#clean up list\n",
    "'''\n",
    "for name in guest_list:\n",
    "    name = name.strip().title()\n",
    "    print(name)\n",
    "\n",
    "print(guest_list)\n",
    "'''\n",
    "def invitations(guests):\n",
    "    for name in guests:\n",
    "        print(f'you are invited {name.strip().title()}')\n",
    "\n",
    "invitations(guest_list)\n",
    "\n",
    "print(\"hannah can't make it\")\n",
    "guest_list.remove(\"\\nhannah\")\n",
    "guest_list.insert(2,\"Brent\")\n",
    "\n",
    "invitations(guest_list)\n",
    "\n",
    "print(\"\\nWe found a bigger table\")\n",
    "guest_list.insert(0,\"tom\")\n",
    "guest_list.insert(3,\"ben\")\n",
    "guest_list.append(\"don\")\n",
    "\n",
    "invitations(guest_list)\n",
    "\n",
    "print('\\nI can only invite 2 people')\n",
    "\n",
    "def uninvite(list):\n",
    "    i = len(list)-1\n",
    "    while i > 1:\n",
    "        removed = list.pop(i)\n",
    "        print(f\"you have been univited, {removed.strip().title()}\")\n",
    "        i-=1\n",
    "    return\n",
    "\n",
    "uninvite(guest_list)\n",
    "print(guest_list)\n",
    "\n",
    "invitations(guest_list)\n",
    "\n",
    "del guest_list[0]\n",
    "del guest_list[0]\n",
    "\n",
    "print(guest_list)"
   ]
  },
  {
   "cell_type": "code",
   "execution_count": null,
   "id": "2979aa2c",
   "metadata": {},
   "outputs": [],
   "source": []
  }
 ],
 "metadata": {
  "kernelspec": {
   "display_name": "Python 3",
   "language": "python",
   "name": "python3"
  },
  "language_info": {
   "codemirror_mode": {
    "name": "ipython",
    "version": 3
   },
   "file_extension": ".py",
   "mimetype": "text/x-python",
   "name": "python",
   "nbconvert_exporter": "python",
   "pygments_lexer": "ipython3",
   "version": "3.13.7"
  }
 },
 "nbformat": 4,
 "nbformat_minor": 5
}
