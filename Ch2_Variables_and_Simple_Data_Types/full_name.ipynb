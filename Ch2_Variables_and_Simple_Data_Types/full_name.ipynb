{
 "cells": [
  {
   "cell_type": "code",
   "execution_count": 4,
   "id": "b9d6df07",
   "metadata": {},
   "outputs": [
    {
     "name": "stdout",
     "output_type": "stream",
     "text": [
      "Hello, Ada Lovelace!\n",
      "\tPython\n",
      "Languages:\n",
      "\tPython\n",
      "\tC\n",
      "\tJavaSCript\n",
      "Python\n",
      "nostarch.com\n"
     ]
    }
   ],
   "source": [
    "first_name = \"ada\"\n",
    "last_name = \"lovelace\"\n",
    "full_name = f\"{first_name} {last_name}\"\n",
    "message = f\"Hello, {full_name.title()}!\"\n",
    "print(message)\n",
    "#f is for format. f-string\n",
    "\n",
    "#adding white space\n",
    "print(\"\\tPython\")\n",
    "print(\"Languages:\\n\\tPython\\n\\tC\\n\\tJavaSCript\")\n",
    "\n",
    "#stripping white space\n",
    "favorite_language = \"Python \"\n",
    "favorite_language = favorite_language.strip()\n",
    "print(favorite_language)\n",
    "#rstrip() only removes white spcae on the right\n",
    "#lstrip() only removes on the left\n",
    "\n",
    "nostarch_url = 'https://nostarch.com'\n",
    "nostarch_url = nostarch_url.removeprefix('https://')\n",
    "print(nostarch_url)"
   ]
  },
  {
   "cell_type": "code",
   "execution_count": null,
   "id": "d4723dad",
   "metadata": {},
   "outputs": [],
   "source": []
  }
 ],
 "metadata": {
  "kernelspec": {
   "display_name": "Python 3",
   "language": "python",
   "name": "python3"
  },
  "language_info": {
   "codemirror_mode": {
    "name": "ipython",
    "version": 3
   },
   "file_extension": ".py",
   "mimetype": "text/x-python",
   "name": "python",
   "nbconvert_exporter": "python",
   "pygments_lexer": "ipython3",
   "version": "3.13.2"
  }
 },
 "nbformat": 4,
 "nbformat_minor": 5
}
