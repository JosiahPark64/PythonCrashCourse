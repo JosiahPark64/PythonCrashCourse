{
 "cells": [
  {
   "cell_type": "code",
   "execution_count": 1,
   "id": "3af743fa",
   "metadata": {},
   "outputs": [
    {
     "name": "stdout",
     "output_type": "stream",
     "text": [
      "\n",
      "Username: aeinstein\n",
      "\tFull Name: Albert Einstein\n",
      "\tLocation: Princeton\n",
      "\n",
      "Username: mcurie\n",
      "\tFull Name: Marie Curie\n",
      "\tLocation: Paris\n"
     ]
    }
   ],
   "source": [
    "users = {\n",
    "    'aeinstein': {\n",
    "        'first':'albert',\n",
    "        'last':'einstein',\n",
    "        'location':'princeton',\n",
    "    },\n",
    "    'mcurie': {\n",
    "        'first':'marie',\n",
    "        'last':'curie',\n",
    "        'location':'paris',\n",
    "    },\n",
    "}\n",
    "\n",
    "for username, user_info in users.items():\n",
    "    print(f\"\\nUsername: {username}\")\n",
    "    full_name = f\"{user_info['first']} {user_info['last']}\"\n",
    "    location = user_info['location']\n",
    "    print(f\"\\tFull Name: {full_name.title()}\")\n",
    "    print(f\"\\tLocation: {location.title()}\")"
   ]
  },
  {
   "cell_type": "code",
   "execution_count": null,
   "id": "0f7a7ee3",
   "metadata": {},
   "outputs": [
    {
     "name": "stdout",
     "output_type": "stream",
     "text": [
      "Domestic Shorthair Breed\n",
      "Gray Color\n",
      "Male Sex\n",
      "Green Eyes\n",
      "Josiah Owner\n",
      "Domestic Shorthair Breed\n",
      "Dark Gray Color\n",
      "Male Sex\n",
      "Yellow Eyes\n",
      "Ava Owner\n"
     ]
    }
   ],
   "source": [
    "gizmo = {\n",
    "    'breed': 'domestic shorthair',\n",
    "    'color': 'gray',\n",
    "    'sex': 'male',\n",
    "    'eyes': 'green',\n",
    "    'owner': 'josiah',\n",
    "}\n",
    "beluga = {\n",
    "    'breed': 'domestic shorthair',\n",
    "    'color': 'dark gray',\n",
    "    'sex': 'male',\n",
    "    'eyes': 'yellow',\n",
    "    'owner': 'ava',\n",
    "}\n",
    "\n",
    "pets = [gizmo, beluga]\n",
    "\n",
    "for pet in pets:\n",
    "    for key, value in pet.items():\n",
    "        print(f'{value.title()} {key.title()}')"
   ]
  },
  {
   "cell_type": "code",
   "execution_count": null,
   "id": "0635eea0",
   "metadata": {},
   "outputs": [],
   "source": []
  }
 ],
 "metadata": {
  "kernelspec": {
   "display_name": "Python 3",
   "language": "python",
   "name": "python3"
  },
  "language_info": {
   "codemirror_mode": {
    "name": "ipython",
    "version": 3
   },
   "file_extension": ".py",
   "mimetype": "text/x-python",
   "name": "python",
   "nbconvert_exporter": "python",
   "pygments_lexer": "ipython3",
   "version": "3.13.7"
  }
 },
 "nbformat": 4,
 "nbformat_minor": 5
}
