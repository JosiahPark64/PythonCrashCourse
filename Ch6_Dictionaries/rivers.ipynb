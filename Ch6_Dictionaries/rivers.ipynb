{
 "cells": [
  {
   "cell_type": "code",
   "execution_count": 9,
   "id": "c755c537",
   "metadata": {},
   "outputs": [
    {
     "name": "stdout",
     "output_type": "stream",
     "text": [
      "The Nile runs through Egypt\n",
      "The Mississippi runs through Usa\n",
      "The Indus runs through India\n",
      "Nile\n",
      "Mississippi\n",
      "Indus\n",
      "Egypt\n",
      "Usa\n",
      "India\n",
      "The NILE flows through egypt\n",
      "The MISSISSIPPI flows through usa\n",
      "The INDUS flows through india\n"
     ]
    }
   ],
   "source": [
    "river_dictionary = {'nile':'egypt','mississippi':'USA','indus':'india'}\n",
    "for river in river_dictionary:\n",
    "    print(f\"The {river.title()} runs through {river_dictionary[river].title()}\")\n",
    "\n",
    "for river in river_dictionary.keys():\n",
    "    print(river.title())\n",
    "\n",
    "for country in river_dictionary.values():\n",
    "    print(country.title())    \n",
    "\n",
    "for river, country in river_dictionary.items():\n",
    "    print(f\"The {river.upper()} flows through {country.lower()}\")"
   ]
  },
  {
   "cell_type": "code",
   "execution_count": null,
   "id": "40c07c03",
   "metadata": {},
   "outputs": [],
   "source": []
  }
 ],
 "metadata": {
  "kernelspec": {
   "display_name": "Python 3",
   "language": "python",
   "name": "python3"
  },
  "language_info": {
   "codemirror_mode": {
    "name": "ipython",
    "version": 3
   },
   "file_extension": ".py",
   "mimetype": "text/x-python",
   "name": "python",
   "nbconvert_exporter": "python",
   "pygments_lexer": "ipython3",
   "version": "3.13.7"
  }
 },
 "nbformat": 4,
 "nbformat_minor": 5
}
