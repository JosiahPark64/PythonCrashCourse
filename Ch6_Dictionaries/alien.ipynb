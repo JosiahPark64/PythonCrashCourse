{
 "cells": [
  {
   "cell_type": "code",
   "execution_count": 12,
   "id": "b45b4089",
   "metadata": {},
   "outputs": [
    {
     "name": "stdout",
     "output_type": "stream",
     "text": [
      "green\n",
      "5\n",
      "{'color': 'green', 'points': 5, 'x_position': 0, 'y_position': 25}\n",
      "{'color': 'green', 'points': 5}\n",
      "{'color': 'yellow', 'points': 5}\n",
      "{'color': 'yellow', 'points': 5, 'x_position': 0, 'y_position': 25, 'speed': 'fast'}\n",
      "alien's new position is 3\n",
      "{'color': 'yellow', 'x_position': 3, 'y_position': 25, 'speed': 'fast'}\n",
      "No point value assigned\n"
     ]
    }
   ],
   "source": [
    "#a dictionary is a collection of key-value pairs\n",
    "alien_0 = {'color': 'green', 'points': 5}\n",
    "print(alien_0['color'])\n",
    "print(alien_0['points'])\n",
    "\n",
    "#dictionaries are dynamic, so you can add new key-value pairs\n",
    "alien_0['x_position'] = 0\n",
    "alien_0['y_position'] = 25\n",
    "print(alien_0)\n",
    "\n",
    "#dictionaries retain the order in which they were defined\n",
    "\n",
    "#starting from empty dictionary\n",
    "alien_0 = {}\n",
    "alien_0['color']='green'\n",
    "alien_0['points']=5\n",
    "print(alien_0)\n",
    "\n",
    "#typically use empty dictionaries when storing user-supplied data into a \n",
    "#dictionary or when writing code that generates a large number of key-value \n",
    "#pairs automatically\n",
    "\n",
    "#modifying dictionary values\n",
    "alien_0['color']= 'yellow'\n",
    "print(alien_0)\n",
    "\n",
    "alien_0['x_position'] = 0\n",
    "alien_0['y_position'] = 25\n",
    "alien_0['speed'] = 'fast'\n",
    "print(alien_0)\n",
    "\n",
    "if alien_0['speed'] == 'slow':\n",
    "    x_increment = 1\n",
    "elif alien_0['speed'] == 'medium':\n",
    "    x_increment = 2\n",
    "else:\n",
    "    x_increment = 3\n",
    "\n",
    "alien_0['x_position'] = alien_0['x_position'] + x_increment\n",
    "print(f\"alien's new position is {alien_0['x_position']}\")\n",
    "\n",
    "#removing key-value pair\n",
    "del alien_0['points']\n",
    "print(alien_0)\n",
    "\n",
    "point_value = alien_0.get('points','No point value assigned')\n",
    "print(point_value)"
   ]
  },
  {
   "cell_type": "code",
   "execution_count": 14,
   "id": "c30ecf86",
   "metadata": {},
   "outputs": [
    {
     "name": "stdout",
     "output_type": "stream",
     "text": [
      "Tracked alien attributes:\n",
      "color\n",
      "x_position\n",
      "y_position\n",
      "speed\n",
      "\n",
      "Alien attribute values:\n",
      "yellow\n",
      "3\n",
      "25\n",
      "fast\n"
     ]
    }
   ],
   "source": [
    "print(\"Tracked alien attributes:\")\n",
    "for attribute in alien_0:\n",
    "    print(attribute)\n",
    "\n",
    "print(\"\\nAlien attribute values:\")\n",
    "for value in alien_0.values():\n",
    "    print(value)"
   ]
  },
  {
   "cell_type": "code",
   "execution_count": null,
   "id": "32437a01",
   "metadata": {},
   "outputs": [
    {
     "name": "stdout",
     "output_type": "stream",
     "text": [
      "{'color': 'green', 'points': 5}\n",
      "green color\n",
      "5 points\n",
      "{'color': 'yellow', 'points': 10}\n",
      "yellow color\n",
      "10 points\n",
      "{'color': 'red', 'points': 15}\n",
      "red color\n",
      "15 points\n"
     ]
    }
   ],
   "source": [
    "#nesting\n",
    "#nest dictionary inside list, a list of items in a dictionary, a dict in a dict\n",
    "alien_0 = {'color':'green','points':5}\n",
    "alien_1 = {'color':'yellow','points':10}\n",
    "alien_2 = {'color':'red','points':15}\n",
    "\n",
    "aliens = [alien_0, alien_1, alien_2]\n",
    "\n",
    "for alien in aliens:\n",
    "    print(alien)\n",
    "    for key, value in alien.items():\n",
    "        print(value, key)"
   ]
  },
  {
   "cell_type": "code",
   "execution_count": 24,
   "id": "a530e30d",
   "metadata": {},
   "outputs": [
    {
     "name": "stdout",
     "output_type": "stream",
     "text": [
      "{'name': 'alien_0', 'color': 'yellow', 'points': 10, 'speed': 'medium'}\n",
      "{'name': 'alien_1', 'color': 'yellow', 'points': 11, 'speed': 'medium'}\n",
      "{'name': 'alien_2', 'color': 'yellow', 'points': 15, 'speed': 'medium'}\n",
      "{'name': 'alien_3', 'color': 'green', 'points': 9, 'speed': 'slow'}\n",
      "{'name': 'alien_4', 'color': 'green', 'points': 6, 'speed': 'slow'}\n",
      "\n",
      "{'name': 'alien_25', 'color': 'green', 'points': 12, 'speed': 'slow'}\n",
      "{'name': 'alien_26', 'color': 'green', 'points': 1, 'speed': 'slow'}\n",
      "{'name': 'alien_27', 'color': 'green', 'points': 14, 'speed': 'slow'}\n",
      "{'name': 'alien_28', 'color': 'green', 'points': 1, 'speed': 'slow'}\n",
      "{'name': 'alien_29', 'color': 'green', 'points': 1, 'speed': 'slow'}\n",
      "total number of aliens:30\n"
     ]
    }
   ],
   "source": [
    "#make a list of 30 aliens\n",
    "import random\n",
    "alien_list = []\n",
    "for i in range(0,30):\n",
    "    alien = {'name':f'alien_{i}','color':'green','points':random.randint(1,15),'speed':'slow'}\n",
    "    alien_list.append(alien)\n",
    "\n",
    "for alien in alien_list[:3]:\n",
    "    alien['color']='yellow'\n",
    "    alien['speed'] = 'medium'\n",
    "\n",
    "for alien in alien_list[:5]:\n",
    "    print(alien)\n",
    "print()\n",
    "for alien in alien_list[-5:]:\n",
    "    print(alien)\n",
    "print(f'total number of aliens:{len(alien_list)}')"
   ]
  },
  {
   "cell_type": "code",
   "execution_count": null,
   "id": "c7b257c1",
   "metadata": {},
   "outputs": [],
   "source": []
  }
 ],
 "metadata": {
  "kernelspec": {
   "display_name": "Python 3",
   "language": "python",
   "name": "python3"
  },
  "language_info": {
   "codemirror_mode": {
    "name": "ipython",
    "version": 3
   },
   "file_extension": ".py",
   "mimetype": "text/x-python",
   "name": "python",
   "nbconvert_exporter": "python",
   "pygments_lexer": "ipython3",
   "version": "3.13.7"
  }
 },
 "nbformat": 4,
 "nbformat_minor": 5
}
