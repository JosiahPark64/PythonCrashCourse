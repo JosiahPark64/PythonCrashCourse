{
 "cells": [
  {
   "cell_type": "code",
   "execution_count": 4,
   "id": "b70a9e41",
   "metadata": {},
   "outputs": [
    {
     "name": "stdout",
     "output_type": "stream",
     "text": [
      "You ordered a Thick-Crust pizza with the following toppings:\n",
      "\tMushrooms\n",
      "\tExtra Cheese\n"
     ]
    }
   ],
   "source": [
    "#store info about a pizza being ordered\n",
    "pizza = {\n",
    "    'crust':'thick',\n",
    "    'toppings':['mushrooms','extra cheese'],\n",
    "}\n",
    "\n",
    "#summarize the order\n",
    "print(f\"You ordered a {pizza['crust'].title()}-Crust pizza with \"\n",
    "      \"the following toppings:\")\n",
    "for topping in pizza['toppings']:\n",
    "    print(f\"\\t{topping.title()}\")"
   ]
  },
  {
   "cell_type": "code",
   "execution_count": null,
   "id": "c3b3a84f",
   "metadata": {},
   "outputs": [],
   "source": []
  }
 ],
 "metadata": {
  "kernelspec": {
   "display_name": "Python 3",
   "language": "python",
   "name": "python3"
  },
  "language_info": {
   "codemirror_mode": {
    "name": "ipython",
    "version": 3
   },
   "file_extension": ".py",
   "mimetype": "text/x-python",
   "name": "python",
   "nbconvert_exporter": "python",
   "pygments_lexer": "ipython3",
   "version": "3.13.7"
  }
 },
 "nbformat": 4,
 "nbformat_minor": 5
}
