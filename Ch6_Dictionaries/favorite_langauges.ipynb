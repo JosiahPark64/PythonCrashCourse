{
 "cells": [
  {
   "cell_type": "code",
   "execution_count": null,
   "id": "140c74de",
   "metadata": {},
   "outputs": [
    {
     "name": "stdout",
     "output_type": "stream",
     "text": [
      "Jen's favorite language is Python\n",
      "Sarah's favorite language is C\n",
      "Edward's favorite language is Rust\n",
      "Phil's favorite language is Python\n",
      "\n",
      "Jen's favorite language is Python\n",
      "Sarah's favorite language is C\n",
      "Edward's favorite language is Rust\n",
      "Phil's favorite language is Python\n",
      "\n",
      "Jen\n",
      "Sarah\n",
      "Edward\n",
      "Phil\n",
      "\n",
      "Jen\n",
      "Sarah\n",
      "Edward\n",
      "Phil\n",
      "\n",
      "Hi Jen.\n",
      "Hi Sarah.\n",
      "\tSarah, I see you love python!\n",
      "Hi Edward.\n",
      "Hi Phil.\n",
      "\tPhil, I see you love python!\n",
      "\n",
      "Erin, please take our poll\n",
      "Edward, thanks for taking the poll.\n",
      "Jen, thanks for taking the poll.\n",
      "Phil, thanks for taking the poll.\n",
      "Sarah, thanks for taking the poll.\n",
      "{'jen': 'python', 'sarah': 'c', 'edward': 'rust', 'phil': 'python'}\n"
     ]
    }
   ],
   "source": [
    "favorite_languages = {\n",
    "    'jen':'python',\n",
    "    'sarah':'c',\n",
    "    'edward':'rust',\n",
    "    'phil':'python',\n",
    "}\n",
    "for name in favorite_languages:\n",
    "    print(f\"{name.title()}'s favorite language is {favorite_languages[name].title()}\")\n",
    "\n",
    "print()\n",
    "\n",
    "for name, language in favorite_languages.items():\n",
    "    print(f\"{name.title()}'s favorite language is {language.title()}\")\n",
    "\n",
    "print()\n",
    "for name in favorite_languages.keys():\n",
    "    print(name.title())\n",
    "\n",
    "#same as \n",
    "print()\n",
    "for name in favorite_languages:\n",
    "    print(name.title())\n",
    "\n",
    "print()\n",
    "friends = ['phil', 'sarah']\n",
    "for name in favorite_languages.keys():\n",
    "    print(f\"Hi {name.title()}.\")\n",
    "\n",
    "    if name in friends:\n",
    "        langauge = favorite_languages[name].title()\n",
    "        print(f\"\\t{name.title()}, I see you love {language}!\")\n",
    "\n",
    "print()\n",
    "if 'erin' not in favorite_languages.keys():\n",
    "    print(\"Erin, please take our poll\")\n",
    "\n"
   ]
  },
  {
   "cell_type": "code",
   "execution_count": null,
   "id": "a6fe81fc",
   "metadata": {},
   "outputs": [],
   "source": [
    "#sort keys as they're returned in the for loop\n",
    "for name in sorted(favorite_languages.keys()):\n",
    "    print(f\"{name.title()}, thanks for taking the poll.\")\n",
    "\n",
    "print(favorite_languages)"
   ]
  },
  {
   "cell_type": "code",
   "execution_count": 18,
   "id": "b9b5038d",
   "metadata": {},
   "outputs": [
    {
     "name": "stdout",
     "output_type": "stream",
     "text": [
      "The following languages have been mentioned:\n",
      "Python\n",
      "C\n",
      "Rust\n",
      "Python\n"
     ]
    }
   ],
   "source": [
    "\n",
    "#sort through values instead\n",
    "print(\"The following languages have been mentioned:\")\n",
    "for language in favorite_languages.values():\n",
    "    print(language.title())"
   ]
  },
  {
   "cell_type": "code",
   "execution_count": null,
   "id": "b3acb062",
   "metadata": {},
   "outputs": [
    {
     "name": "stdout",
     "output_type": "stream",
     "text": [
      "The following languages have been mentioned:\n",
      "Rust\n",
      "Python\n",
      "C\n"
     ]
    }
   ],
   "source": [
    "#previous technique does not check for duplicates\n",
    "#wrapping the dictionary in set will\n",
    "#python identifies the unique items in the collection and builds a set from them\n",
    "print(\"The following languages have been mentioned:\")\n",
    "for language in set(favorite_languages.values()):\n",
    "    print(language.title())"
   ]
  },
  {
   "cell_type": "code",
   "execution_count": 21,
   "id": "ba896a46",
   "metadata": {},
   "outputs": [
    {
     "name": "stdout",
     "output_type": "stream",
     "text": [
      "ethan has not taken the poll.\n",
      "kenny has not taken the poll.\n",
      "ava has not taken the poll.\n",
      "Jen has already taken the poll. Their favorite language is python\n"
     ]
    }
   ],
   "source": [
    "pollers = ['ethan','kenny','ava','jen']\n",
    "if pollers:\n",
    "    for person in pollers:\n",
    "        if person in set(favorite_languages.keys()):\n",
    "            print(f\"{person.title()} has already taken the poll. Their favorite language is {favorite_languages[person]}\")\n",
    "        else:\n",
    "            print(f\"{person} has not taken the poll.\")"
   ]
  },
  {
   "cell_type": "code",
   "execution_count": null,
   "id": "fced1df6",
   "metadata": {},
   "outputs": [
    {
     "name": "stdout",
     "output_type": "stream",
     "text": [
      "Jen's favorite languages are:\n",
      "\tPython\n",
      "\tRust\n",
      "Sarah's favorite languages are:\n",
      "\tC\n",
      "Edward's favorite languages are:\n",
      "\tRust\n",
      "\tGo\n",
      "Phil's favorite languages are:\n",
      "\tPython\n",
      "\tHaskell\n"
     ]
    }
   ],
   "source": [
    "#lists in dictionaries\n",
    "favorite_languages = {\n",
    "    'jen':['python','rust'],\n",
    "    'sarah':['c'],\n",
    "    'edward':['rust','go'],\n",
    "    'phil':['python','haskell'],\n",
    "}\n",
    "\n",
    "for name, languages in favorite_languages.items():\n",
    "    print(f\"{name.title()}'s favorite languages are:\")\n",
    "    for language in languages:\n",
    "        print(f\"\\t{language.title()}\")\n",
    "\n",
    "#NESTING SHOULD NOT GO DEEPER THAN THIS LEVEL. IF SO, PROBABLY BAD"
   ]
  },
  {
   "cell_type": "code",
   "execution_count": null,
   "id": "c9a2d833",
   "metadata": {},
   "outputs": [],
   "source": []
  }
 ],
 "metadata": {
  "kernelspec": {
   "display_name": "Python 3",
   "language": "python",
   "name": "python3"
  },
  "language_info": {
   "codemirror_mode": {
    "name": "ipython",
    "version": 3
   },
   "file_extension": ".py",
   "mimetype": "text/x-python",
   "name": "python",
   "nbconvert_exporter": "python",
   "pygments_lexer": "ipython3",
   "version": "3.13.7"
  }
 },
 "nbformat": 4,
 "nbformat_minor": 5
}
